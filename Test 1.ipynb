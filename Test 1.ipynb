{
 "cells": [
  {
   "cell_type": "markdown",
   "id": "225f7d09-afc6-4297-8cc6-6e6cb456130b",
   "metadata": {
    "tags": []
   },
   "source": [
    "# Comparison of design-time vs run-time greedy control architecture - Effect of system information"
   ]
  },
  {
   "cell_type": "markdown",
   "id": "27d2d917-8961-4c6c-8a75-e99e26be197d",
   "metadata": {
    "tags": []
   },
   "source": [
    "###### Python package initializer"
   ]
  },
  {
   "cell_type": "code",
   "execution_count": 1,
   "id": "0f0b03d6-b45a-409a-a006-06df5ff46ab7",
   "metadata": {
    "jupyter": {
     "source_hidden": true
    },
    "tags": []
   },
   "outputs": [
    {
     "name": "stdout",
     "output_type": "stream",
     "text": [
      "Package initialization complete\n"
     ]
    }
   ],
   "source": [
    "import numpy as np\n",
    "# from IPython.display import display, Latex\n",
    "\n",
    "from functionfile_model import system_package1, create_graph, simulate_system, solve_constraints_initializer, plot_trajectory, plot_trajectory_comparisons\n",
    "print('Package initialization complete')\n",
    "\n",
    "%matplotlib widget"
   ]
  },
  {
   "cell_type": "markdown",
   "id": "74b23aa2-bac4-4d0f-bbe0-f2b5fb4a9b81",
   "metadata": {},
   "source": [
    "### Introduction"
   ]
  },
  {
   "cell_type": "markdown",
   "id": "9c559079-8f6e-4b45-9696-07f3842673a1",
   "metadata": {},
   "source": [
    "We compare 4 stages of control architecture with full-state feedback gain design\n",
    "- Type 1: Design-time random actuator selection $B_S$ and design-time fixed feedback $K$ gain design. Most probably suboptimal control architecture should result with the highest control costs even with optimal gains\n",
    "\n",
    "- Type 2: Design-time greedy actuator selection $B_S$ and design-time fixed feedback $K$ gain design. Design-time architecture optimization should result with lower control costs than Type 1 but higher than Type 4 gains\n",
    "\n",
    "- Type 3: Design-time greedy actuator selection $B_S$ and run-time feedback gain $K_t$ design with current state $x_t$ information. Design-time architecture and run time gain are independent of $x_t$ so expect identical results to Type 2\n",
    "\n",
    "- Type 4: Run-time greedy actuator selection $B_{S,t}$ and run-time feedback gain $K_t$ design with current state $x_t$ information. Run-time architecture optimization using $x_t$ should result in better architecture than Type 2 and result with lowest control cost"
   ]
  },
  {
   "cell_type": "markdown",
   "id": "ede5b9c6-afa7-44d1-a01c-63fc32a909b9",
   "metadata": {
    "tags": []
   },
   "source": [
    "### System Definition\n",
    "\n",
    "System dynamics: $ x_{t+1} = A x_{t} + B_S u_{t} + w_{t} $\n",
    "\n",
    "Open-loop dynamics: $A$ randomly generated, well-connected, undirected, uniformly weighted, ER network $(p=0.4)$ with $n_x=50$ nodes, scaled such that $|\\lambda_{max}(A)|=1.5$\n",
    "\n",
    "Actuator: $B_S$ or $B_{S,t}$ with cardinality constraint $|S|<=2$\n",
    "\n",
    "Initial states: Randomly sampled from $X_0 = 20 \\times \\mathbf{I}_{n_x}$\n",
    "\n",
    "Additive disturbances: Randomly sampled from $W = 5 \\times \\mathbf{I}_{n_x}$"
   ]
  },
  {
   "cell_type": "code",
   "execution_count": 2,
   "id": "59b63979-175b-49a6-82cf-e47bca139e42",
   "metadata": {
    "jupyter": {
     "source_hidden": true
    },
    "tags": []
   },
   "outputs": [],
   "source": [
    "nx = 50\n",
    "p = 0.4\n",
    "rho = 2\n",
    "\n",
    "A = rho*create_graph(nx, 'ER', p)['A']\n",
    "# A = rho*create_graph(nx, 'rand')['A']\n",
    "S = 2\n",
    "X0 = 10*np.random.rand(nx)\n",
    "W = 10*np.identity(nx)\n",
    "\n",
    "Sys = system_package1(A, S_in=S, X0_in=X0, W_in=W)\n",
    "\n",
    "solve_constraints = solve_constraints_initializer(Sys)"
   ]
  },
  {
   "cell_type": "markdown",
   "id": "a7e5f884-5ab7-4f58-b457-9e209a24e392",
   "metadata": {},
   "source": [
    "### Run Code"
   ]
  },
  {
   "cell_type": "code",
   "execution_count": 3,
   "id": "0c6da4a6-1c00-4004-b2c2-00c2e9621e08",
   "metadata": {
    "jupyter": {
     "source_hidden": true
    },
    "tags": []
   },
   "outputs": [
    {
     "name": "stdout",
     "output_type": "stream",
     "text": [
      "Type 1: Design-time random $B_S$, $K$\n",
      "      - Simulation complete\n",
      "Type 2: Run-time greedy $B_{S,t}$, $K_t$ with $x_t$\n",
      "      - Simulation complete\n"
     ]
    },
    {
     "ename": "Exception",
     "evalue": "Check gain type/test model",
     "output_type": "error",
     "traceback": [
      "\u001b[1;31m---------------------------------------------------------------------------\u001b[0m",
      "\u001b[1;31mException\u001b[0m                                 Traceback (most recent call last)",
      "Input \u001b[1;32mIn [3]\u001b[0m, in \u001b[0;36m<cell line: 3>\u001b[1;34m()\u001b[0m\n\u001b[0;32m      1\u001b[0m simulate_results \u001b[38;5;241m=\u001b[39m {}\n\u001b[0;32m      3\u001b[0m \u001b[38;5;28;01mfor\u001b[39;00m K_type \u001b[38;5;129;01min\u001b[39;00m [\u001b[38;5;241m1\u001b[39m, \u001b[38;5;241m2\u001b[39m, \u001b[38;5;241m3\u001b[39m, \u001b[38;5;241m4\u001b[39m]:\n\u001b[1;32m----> 4\u001b[0m     simulate_results[K_type] \u001b[38;5;241m=\u001b[39m \u001b[43msimulate_system\u001b[49m\u001b[43m(\u001b[49m\u001b[43mSys\u001b[49m\u001b[43m,\u001b[49m\u001b[43m \u001b[49m\u001b[43mK_type\u001b[49m\u001b[43m,\u001b[49m\u001b[43m \u001b[49m\u001b[43msolve_constraints\u001b[49m\u001b[43m)\u001b[49m\n",
      "File \u001b[1;32m~\\Documents\\GitDrop\\self_tuning_network_control\\functionfile_model.py:460\u001b[0m, in \u001b[0;36msimulate_system\u001b[1;34m(Sys_in, K_type, solve_constraints)\u001b[0m\n\u001b[0;32m    457\u001b[0m \u001b[38;5;66;03m# records 1 for no warnings or 0 if gain/actuator set is not feasible/bounded\u001b[39;00m\n\u001b[0;32m    459\u001b[0m \u001b[38;5;28;01mif\u001b[39;00m K_type \u001b[38;5;129;01mnot\u001b[39;00m \u001b[38;5;129;01min\u001b[39;00m [\u001b[38;5;241m1\u001b[39m, \u001b[38;5;241m2\u001b[39m]:\n\u001b[1;32m--> 460\u001b[0m     \u001b[38;5;28;01mraise\u001b[39;00m \u001b[38;5;167;01mException\u001b[39;00m(\u001b[38;5;124m'\u001b[39m\u001b[38;5;124mCheck gain type/test model\u001b[39m\u001b[38;5;124m'\u001b[39m)\n\u001b[0;32m    461\u001b[0m \u001b[38;5;28;01melif\u001b[39;00m K_type \u001b[38;5;241m==\u001b[39m \u001b[38;5;241m1\u001b[39m:\n\u001b[0;32m    462\u001b[0m     return_values[\u001b[38;5;124m'\u001b[39m\u001b[38;5;124mlabel\u001b[39m\u001b[38;5;124m'\u001b[39m] \u001b[38;5;241m=\u001b[39m \u001b[38;5;124m'\u001b[39m\u001b[38;5;124mDesign-time random $B_S$, $K$\u001b[39m\u001b[38;5;124m'\u001b[39m\n",
      "\u001b[1;31mException\u001b[0m: Check gain type/test model"
     ]
    }
   ],
   "source": [
    "simulate_results = {}\n",
    "\n",
    "for K_type in [1, 2, 3, 4]:\n",
    "    simulate_results[K_type] = simulate_system(Sys, K_type, solve_constraints)"
   ]
  },
  {
   "cell_type": "markdown",
   "id": "a1317065-5170-412c-b732-6f7b8b0d71bc",
   "metadata": {},
   "source": [
    "### Results"
   ]
  },
  {
   "cell_type": "code",
   "execution_count": null,
   "id": "9ebd9818-33a3-4c83-a9d0-14a9bdcdc80d",
   "metadata": {
    "jupyter": {
     "source_hidden": true
    },
    "tags": []
   },
   "outputs": [],
   "source": [
    "plot_trajectory_comparisons(simulate_results, 'images/Test1/Plt')"
   ]
  },
  {
   "cell_type": "markdown",
   "id": "45ebb4ff-9533-456f-8e0a-900910600dd5",
   "metadata": {
    "tags": []
   },
   "source": [
    "###### Notebook run completion"
   ]
  },
  {
   "cell_type": "code",
   "execution_count": null,
   "id": "192bf8f1-9d8a-4c3b-99d3-325ffb7a187e",
   "metadata": {
    "jupyter": {
     "source_hidden": true
    },
    "tags": []
   },
   "outputs": [],
   "source": [
    "print('Notebook run completion')"
   ]
  }
 ],
 "metadata": {
  "kernelspec": {
   "display_name": "Python 3 (ipykernel)",
   "language": "python",
   "name": "python3"
  },
  "language_info": {
   "codemirror_mode": {
    "name": "ipython",
    "version": 3
   },
   "file_extension": ".py",
   "mimetype": "text/x-python",
   "name": "python",
   "nbconvert_exporter": "python",
   "pygments_lexer": "ipython3",
   "version": "3.9.12"
  }
 },
 "nbformat": 4,
 "nbformat_minor": 5
}
