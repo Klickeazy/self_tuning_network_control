{
 "cells": [
  {
   "cell_type": "markdown",
   "id": "22cef0bd-dd3d-41ec-a03a-e74d0a450cb7",
   "metadata": {
    "tags": []
   },
   "source": [
    "# Comparison of design-time vs run-time greedy control architecture - targeted disturbances"
   ]
  },
  {
   "cell_type": "markdown",
   "id": "9bb56cbd-636c-4cd5-ab84-a0e71cdc7acf",
   "metadata": {
    "tags": []
   },
   "source": [
    "###### Python package initializer"
   ]
  },
  {
   "cell_type": "code",
   "execution_count": 1,
   "id": "a54bcca8-193f-4120-8b38-0432dc573ddb",
   "metadata": {
    "jupyter": {
     "source_hidden": true
    },
    "tags": []
   },
   "outputs": [
    {
     "name": "stdout",
     "output_type": "stream",
     "text": [
      "Package initialization complete\n"
     ]
    }
   ],
   "source": [
    "import numpy as np\n",
    "# from IPython.display import display, Latex\n",
    "\n",
    "from functionfile_model import system_package1, create_graph, simulate_system, solve_constraints_initializer, plot_trajectory, plot_trajectory_comparisons\n",
    "print('Package initialization complete')\n",
    "\n",
    "%matplotlib widget"
   ]
  },
  {
   "cell_type": "markdown",
   "id": "55deb5da-b9f3-4333-8fcc-6ad36fafe172",
   "metadata": {},
   "source": [
    "### Introduction"
   ]
  },
  {
   "cell_type": "markdown",
   "id": "819e5852-83ca-4eb4-bbf0-fb7d9584df12",
   "metadata": {},
   "source": [
    "We test the performance of design-time and run-time greedy control architecture for disturbances targeting nodes\n",
    "- Type 1: Design-time random actuator selection $B_S$ and design-time fixed feedback $K$ gain design. Most probably suboptimal control architecture should result with the highest control costs even with optimal gains\n",
    "\n",
    "- Type 2: Design-time greedy actuator selection $B_S$ and design-time fixed feedback $K$ gain design. Design-time architecture optimization should result with lower control costs than Type 1 but higher than Type 4 gains\n",
    "\n",
    "- Type 4: Run-time greedy actuator selection $B_{S,t}$ and run-time feedback gain $K_t$ design with current state $x_t$ information. Run-time architecture optimization using $x_t$ should result in better architecture than Type 2 and result with lowest control cost"
   ]
  },
  {
   "cell_type": "markdown",
   "id": "d6a3dbc3-9c8e-4a7c-ba23-2d4edb871be0",
   "metadata": {
    "tags": []
   },
   "source": [
    "### System Definition\n",
    "\n",
    "System dynamics: $ x_{t+1} = A x_{t} + B_S u_{t} + w_{t} $\n",
    "\n",
    "Open-loop dynamics: $A$ randomly generated, well-connected, undirected, uniformly weighted, ER network $(p=0.4)$ with $n_x=50$ nodes, scaled such that $|\\lambda_{max}(A)|=1.5$\n",
    "\n",
    "Actuator: $B_S$ or $B_{S,t}$ with cardinality constraint $|S|<=2$\n",
    "\n",
    "Initial states: Randomly sampled from $X_0 = 20 \\times \\mathbf{I}_{n_x}$\n",
    "\n",
    "Additive disturbances: Randomly sampled from $W = 5 \\times \\mathbf{I}_{n_x}$"
   ]
  },
  {
   "cell_type": "code",
   "execution_count": 2,
   "id": "d830566d-1251-443b-8446-f9ab0bfcc370",
   "metadata": {
    "jupyter": {
     "source_hidden": true
    },
    "tags": []
   },
   "outputs": [],
   "source": [
    "nx = 50\n",
    "p = 0.4\n",
    "rho = 1.5\n",
    "\n",
    "A = rho*create_graph(nx, 'ER', p)['A']\n",
    "# A = rho*create_graph(nx, 'rand')['A']\n",
    "S = 5\n",
    "X0 = 10*np.random.rand(nx)\n",
    "W = 5*np.identity(nx)\n",
    "\n",
    "Sys = system_package1(A, S_in=S, X0_in=X0, W_in=W)\n",
    "\n",
    "solve_constraints = solve_constraints_initializer(Sys)\n",
    "# print(np.shape(solve_constraints['W_sim']))\n",
    "for i in range(0, solve_constraints['T_sim']//nx):\n",
    "    solve_constraints['W_sim'][i*nx:((i+1)*nx - 1), i] *= 20"
   ]
  },
  {
   "cell_type": "markdown",
   "id": "b5b8d309-35d9-4efa-9a85-f0be1835a839",
   "metadata": {},
   "source": [
    "### Run Code"
   ]
  },
  {
   "cell_type": "code",
   "execution_count": 3,
   "id": "dce8eb7d-8a77-40af-97d4-303a402d2227",
   "metadata": {
    "jupyter": {
     "source_hidden": true
    },
    "tags": []
   },
   "outputs": [
    {
     "name": "stdout",
     "output_type": "stream",
     "text": [
      "Type 1: Design-time random $B_S$, $K$\n",
      "      - Simulation complete\n",
      "Type 2: Design-time greedy $B_S$, $K$\n",
      "      - Simulation complete\n",
      "Type 4: Run-time greedy $B_{S,t}$, $K_t$ with $x_t$\n",
      "      - Simulation complete\n"
     ]
    }
   ],
   "source": [
    "simulate_results = {}\n",
    "\n",
    "for K_type in [1, 2, 4]:\n",
    "    simulate_results[K_type] = simulate_system(Sys, K_type, solve_constraints)"
   ]
  },
  {
   "cell_type": "markdown",
   "id": "a1dc6a3c-4034-412d-847d-dcf7d08be9b4",
   "metadata": {},
   "source": [
    "### Results"
   ]
  },
  {
   "cell_type": "code",
   "execution_count": 4,
   "id": "fbb81edd-3738-446a-a3d1-65567d0bae03",
   "metadata": {
    "jupyter": {
     "source_hidden": true
    },
    "tags": []
   },
   "outputs": [
    {
     "data": {
      "application/vnd.jupyter.widget-view+json": {
       "model_id": "979f102b9def4ed2847aa8886398a636",
       "version_major": 2,
       "version_minor": 0
      },
      "text/plain": [
       "Canvas(toolbar=Toolbar(toolitems=[('Home', 'Reset original view', 'home', 'home'), ('Back', 'Back to previous …"
      ]
     },
     "metadata": {},
     "output_type": "display_data"
    },
    {
     "data": {
      "application/vnd.jupyter.widget-view+json": {
       "model_id": "4fa90041cc9447fab566afb33319ad7f",
       "version_major": 2,
       "version_minor": 0
      },
      "text/plain": [
       "Canvas(toolbar=Toolbar(toolitems=[('Home', 'Reset original view', 'home', 'home'), ('Back', 'Back to previous …"
      ]
     },
     "metadata": {},
     "output_type": "display_data"
    },
    {
     "data": {
      "application/vnd.jupyter.widget-view+json": {
       "model_id": "f00b666a08c942628d0c8af92d988589",
       "version_major": 2,
       "version_minor": 0
      },
      "text/plain": [
       "Canvas(toolbar=Toolbar(toolitems=[('Home', 'Reset original view', 'home', 'home'), ('Back', 'Back to previous …"
      ]
     },
     "metadata": {},
     "output_type": "display_data"
    },
    {
     "name": "stdout",
     "output_type": "stream",
     "text": [
      "Cumulative cost comparison:\n",
      "Type 1 : 619800.73\n",
      "Type 2 : 383936.32\n",
      "Type 4 : 372786.18\n"
     ]
    },
    {
     "data": {
      "application/vnd.jupyter.widget-view+json": {
       "model_id": "5c58134771eb4eecbdecf72c4e5a61e9",
       "version_major": 2,
       "version_minor": 0
      },
      "text/plain": [
       "Canvas(toolbar=Toolbar(toolitems=[('Home', 'Reset original view', 'home', 'home'), ('Back', 'Back to previous …"
      ]
     },
     "metadata": {},
     "output_type": "display_data"
    }
   ],
   "source": [
    "plot_trajectory_comparisons(simulate_results, 'images/Test2/Plt')"
   ]
  },
  {
   "cell_type": "markdown",
   "id": "5e8ee268-7229-4c73-8627-6220d0c816a8",
   "metadata": {
    "tags": []
   },
   "source": [
    "###### Notebook run completion"
   ]
  },
  {
   "cell_type": "code",
   "execution_count": 5,
   "id": "2a81ed9f-f711-44a6-bbbf-9fffdf4b3bb5",
   "metadata": {
    "jupyter": {
     "source_hidden": true
    },
    "tags": []
   },
   "outputs": [
    {
     "name": "stdout",
     "output_type": "stream",
     "text": [
      "Notebook run completion\n"
     ]
    }
   ],
   "source": [
    "print('Notebook run completion')"
   ]
  }
 ],
 "metadata": {
  "kernelspec": {
   "display_name": "Python 3",
   "language": "python",
   "name": "python3"
  },
  "language_info": {
   "codemirror_mode": {
    "name": "ipython",
    "version": 3
   },
   "file_extension": ".py",
   "mimetype": "text/x-python",
   "name": "python",
   "nbconvert_exporter": "python",
   "pygments_lexer": "ipython3",
   "version": "3.9.6"
  }
 },
 "nbformat": 4,
 "nbformat_minor": 5
}
