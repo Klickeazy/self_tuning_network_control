{
 "cells": [
  {
   "cell_type": "markdown",
   "id": "f94d50af-6b29-463d-8c63-9f4974eb301e",
   "metadata": {
    "tags": []
   },
   "source": [
    "# Self-Tuning Network Control\n",
    "Comparison of design-time vs run-time greedy actuator selection assuming full state feedback information\n",
    "Linear, discrete time control"
   ]
  },
  {
   "cell_type": "markdown",
   "id": "74a5b68a-99c6-4fce-888f-a902a1e35481",
   "metadata": {
    "tags": []
   },
   "source": [
    "##### Python package initializer\n",
    "Activate ipykernel for more plot interactions if required by uncommenting the matplotlib widget below"
   ]
  },
  {
   "cell_type": "code",
   "execution_count": 5,
   "id": "33a77be4-aa1d-4b07-a3b5-71fd92ec260e",
   "metadata": {
    "jupyter": {
     "source_hidden": true
    },
    "tags": []
   },
   "outputs": [
    {
     "name": "stdout",
     "output_type": "stream",
     "text": [
      "Package initialization complete\n"
     ]
    }
   ],
   "source": [
    "import numpy as np\n",
    "from IPython.display import display, Latex\n",
    "\n",
    "from functionfile_model import system_package1, create_graph, simulate_system, solve_constraints_initializer, plot_trajectory, plot_trajectory_comparisons, plot_trajectory_comparisons_2\n",
    "\n",
    "# %matplotlib widget\n",
    "\n",
    "print('Package initialization complete')"
   ]
  },
  {
   "cell_type": "markdown",
   "id": "c060b750-d8f3-435f-a392-1a33d3464933",
   "metadata": {},
   "source": [
    "### Introduction"
   ]
  },
  {
   "cell_type": "markdown",
   "id": "a200c71e-6fb8-4be5-9d1a-76c24b3de2e4",
   "metadata": {},
   "source": [
    "We compare 4 stages of control architecture with full-state feedback gain design\n",
    "- Type 1: Design-time random actuator selection $B_S$ and design-time fixed feedback $K$ gain design. Most probably suboptimal control architecture should result with the highest control costs even with optimal gains\n",
    "\n",
    "- Type 2: Run-time greedy actuator selection $B_{S,t}$ and run-time feedback gain $K_t$ design with current state $x_t$ information. Run-time architecture optimization using $x_t$ should result in better architecture than Type 2 and result with lowest control cost"
   ]
  },
  {
   "cell_type": "markdown",
   "id": "b215acfa-1517-48e6-897a-029b2581b3e5",
   "metadata": {
    "tags": []
   },
   "source": [
    "### System Definition\n",
    "\n",
    "System dynamics: $ x_{t+1} = A x_{t} + B_S u_{t} + w_{t} $\n",
    "\n",
    "Open-loop dynamics: $A$ randomly generated, well-connected, undirected, uniformly weighted, ER network $(p=0.4)$ with $n_x=50$ nodes, scaled such that $|\\lambda_{max}(A)|=\\rho=2$\n",
    "\n",
    "Actuator: $B_S$ or $B_{S,t}$ with cardinality constraint $|S|<=2$\n",
    "\n",
    "Initial states: Randomly sampled from $X_0 = 10 \\times \\mathbf{I}_{n_x}$\n",
    "\n",
    "Additive disturbances: Randomly sampled from $W = 10 \\times \\mathbf{I}_{n_x}$"
   ]
  },
  {
   "cell_type": "code",
   "execution_count": 2,
   "id": "1d1ecaea-b6c4-48a9-a5a8-9b897dc34f03",
   "metadata": {
    "jupyter": {
     "source_hidden": true
    },
    "tags": []
   },
   "outputs": [
    {
     "name": "stdout",
     "output_type": "stream",
     "text": [
      "Initializing system and simulation conditions\n",
      "Initialization done\n"
     ]
    }
   ],
   "source": [
    "nx = 50\n",
    "p = 0.4\n",
    "rho = 2\n",
    "\n",
    "A = rho*create_graph(nx, 'ER', p)['A']\n",
    "# A = rho*create_graph(nx, 'rand')['A']\n",
    "S = 2\n",
    "X0 = 10*np.random.rand(nx)\n",
    "W = 10*np.identity(nx)\n",
    "\n",
    "print('Initializing system and simulation conditions')\n",
    "\n",
    "Sys = system_package1(A, S_in=S, X0_in=X0, W_in=W)\n",
    "\n",
    "solve_constraints = solve_constraints_initializer(Sys)\n",
    "\n",
    "print('Initialization done')"
   ]
  },
  {
   "cell_type": "markdown",
   "id": "35be8036-08aa-4ef4-83e2-cae97e4dbbd9",
   "metadata": {},
   "source": [
    "### Run Code"
   ]
  },
  {
   "cell_type": "code",
   "execution_count": 3,
   "id": "26b5e730-3549-41d9-b2ad-a538537d9c76",
   "metadata": {
    "jupyter": {
     "source_hidden": true
    },
    "tags": []
   },
   "outputs": [
    {
     "name": "stdout",
     "output_type": "stream",
     "text": [
      "Type 1: Design-time random $B_S$, $K$\n",
      "      - Simulation complete\n",
      "Type 2: Run-time greedy $B_{S,t}$, $K_t$ with $x_t$\n",
      "      - Simulation complete\n"
     ]
    }
   ],
   "source": [
    "simulate_results = {}\n",
    "\n",
    "for K_type in [1, 2]:\n",
    "    simulate_results[K_type] = simulate_system(Sys, K_type, solve_constraints)"
   ]
  },
  {
   "cell_type": "markdown",
   "id": "fa11f0e5-d0e5-44dc-83dd-559b6aebba79",
   "metadata": {},
   "source": [
    "### Results"
   ]
  },
  {
   "cell_type": "code",
   "execution_count": 6,
   "id": "89850b2c-bd1e-47b3-aa32-52f79eee4fee",
   "metadata": {
    "jupyter": {
     "source_hidden": true
    },
    "tags": []
   },
   "outputs": [
    {
     "data": {
      "image/png": "[encoded data removed]",
      "text/plain": [
       "<Figure size 432x288 with 3 Axes>"
      ]
     },
     "metadata": {
      "needs_background": "light"
     },
     "output_type": "display_data"
    },
    {
     "data": {
      "image/png": "[encoded data removed]",
      "text/plain": [
       "<Figure size 432x288 with 3 Axes>"
      ]
     },
     "metadata": {
      "needs_background": "light"
     },
     "output_type": "display_data"
    },
    {
     "name": "stdout",
     "output_type": "stream",
     "text": [
      "Cumulative cost comparison:\n",
      "Type 1 : 300523.39\n",
      "Type 2 : 215988.83\n"
     ]
    },
    {
     "ename": "TypeError",
     "evalue": "not enough arguments for format string",
     "output_type": "error",
     "traceback": [
      "\u001b[1;31m---------------------------------------------------------------------------\u001b[0m",
      "\u001b[1;31mTypeError\u001b[0m                                 Traceback (most recent call last)",
      "\u001b[1;32mc:\\Users\\kxg161630\\Documents\\GitDrop\\self_tuning_network_control\\Test_Notebook.ipynb Cell 11\u001b[0m in \u001b[0;36m<cell line: 1>\u001b[1;34m()\u001b[0m\n\u001b[1;32m----> <a href='vscode-notebook-cell:/c%3A/Users/kxg161630/Documents/GitDrop/self_tuning_network_control/Test_Notebook.ipynb#X13sZmlsZQ%3D%3D?line=0'>1</a>\u001b[0m plot_trajectory_comparisons(simulate_results, \u001b[39m'\u001b[39;49m\u001b[39mimages/Test0/Plt\u001b[39;49m\u001b[39m'\u001b[39;49m)\n",
      "File \u001b[1;32mc:\\Users\\kxg161630\\Documents\\GitDrop\\self_tuning_network_control\\functionfile_model.py:576\u001b[0m, in \u001b[0;36mplot_trajectory_comparisons\u001b[1;34m(data, fname_path)\u001b[0m\n\u001b[0;32m    574\u001b[0m \u001b[39mfor\u001b[39;00m k \u001b[39min\u001b[39;00m data:\n\u001b[0;32m    575\u001b[0m     \u001b[39mprint\u001b[39m(\u001b[39m\"\u001b[39m\u001b[39mType \u001b[39m\u001b[39m%d\u001b[39;00m\u001b[39m : \u001b[39m\u001b[39m%.2f\u001b[39;00m\u001b[39m\"\u001b[39m \u001b[39m%\u001b[39m (data[k][\u001b[39m'\u001b[39m\u001b[39mK_type\u001b[39m\u001b[39m'\u001b[39m], np\u001b[39m.\u001b[39msum(data[k][\u001b[39m'\u001b[39m\u001b[39mJ\u001b[39m\u001b[39m'\u001b[39m], dtype\u001b[39m=\u001b[39m\u001b[39mfloat\u001b[39m)))\n\u001b[1;32m--> 576\u001b[0m \u001b[39mprint\u001b[39m(\u001b[39m\"\u001b[39;49m\u001b[39mType 2 cost improvement: \u001b[39;49m\u001b[39m%.2f\u001b[39;49;00m\u001b[39m \u001b[39;49m\u001b[39m% o\u001b[39;49;00m\u001b[39mf Type 1\u001b[39;49m\u001b[39m\"\u001b[39;49m \u001b[39m%\u001b[39;49m ((np\u001b[39m.\u001b[39;49msum(data[\u001b[39m1\u001b[39;49m][\u001b[39m'\u001b[39;49m\u001b[39mJ\u001b[39;49m\u001b[39m'\u001b[39;49m])\u001b[39m-\u001b[39;49mnp\u001b[39m.\u001b[39;49msum(data[\u001b[39m2\u001b[39;49m][\u001b[39m'\u001b[39;49m\u001b[39mJ\u001b[39;49m\u001b[39m'\u001b[39;49m]))\u001b[39m*\u001b[39;49m\u001b[39m100\u001b[39;49m\u001b[39m/\u001b[39;49mnp\u001b[39m.\u001b[39;49msum(data[\u001b[39m1\u001b[39;49m][\u001b[39m'\u001b[39;49m\u001b[39mJ\u001b[39;49m\u001b[39m'\u001b[39;49m])))\n\u001b[0;32m    578\u001b[0m figJ \u001b[39m=\u001b[39m plt\u001b[39m.\u001b[39mfigure(tight_layout\u001b[39m=\u001b[39m\u001b[39mTrue\u001b[39;00m)\n\u001b[0;32m    579\u001b[0m gsJ \u001b[39m=\u001b[39m GridSpec(\u001b[39m2\u001b[39m, \u001b[39m1\u001b[39m, figure\u001b[39m=\u001b[39mfigJ)\n",
      "\u001b[1;31mTypeError\u001b[0m: not enough arguments for format string"
     ]
    }
   ],
   "source": [
    "plot_trajectory_comparisons(simulate_results, 'images/Test0/Plt')"
   ]
  },
  {
   "cell_type": "code",
   "execution_count": null,
   "id": "33c6db7e",
   "metadata": {},
   "outputs": [
    {
     "data": {
      "image/png": "[encoded data removed]",
      "text/plain": [
       "<Figure size 432x288 with 6 Axes>"
      ]
     },
     "metadata": {
      "needs_background": "light"
     },
     "output_type": "display_data"
    }
   ],
   "source": [
    "plot_trajectory_comparisons_2(simulate_results, 'images/Test0/Plt')"
   ]
  },
  {
   "cell_type": "markdown",
   "id": "57cb5a6d-35c5-4364-8e50-0a7fc341434a",
   "metadata": {
    "tags": []
   },
   "source": [
    "##### Notebook run completion"
   ]
  },
  {
   "cell_type": "code",
   "execution_count": null,
   "id": "d4b3dc6b-c77b-4840-8432-05e73e6b0d59",
   "metadata": {
    "jupyter": {
     "source_hidden": true
    },
    "tags": []
   },
   "outputs": [
    {
     "name": "stdout",
     "output_type": "stream",
     "text": [
      "Notebook run completion\n"
     ]
    }
   ],
   "source": [
    "print('Notebook run completion')"
   ]
  }
 ],
 "metadata": {
  "kernelspec": {
   "display_name": "Python 3.9.12 ('work')",
   "language": "python",
   "name": "python3"
  },
  "language_info": {
   "codemirror_mode": {
    "name": "ipython",
    "version": 3
   },
   "file_extension": ".py",
   "mimetype": "text/x-python",
   "name": "python",
   "nbconvert_exporter": "python",
   "pygments_lexer": "ipython3",
   "version": "3.9.12"
  },
  "vscode": {
   "interpreter": {
    "hash": "839cd4b9251f852972b2854d21626ad04027be056a790268c0edb117a3052a05"
   }
  }
 },
 "nbformat": 4,
 "nbformat_minor": 5
}
